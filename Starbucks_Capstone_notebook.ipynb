{
 "cells": [
  {
   "cell_type": "markdown",
   "metadata": {},
   "source": [
    "# Starbucks Capstone Challenge\n",
    "\n",
    "### Introduction\n",
    "\n",
    "This data set contains simulated data that mimics customer behavior on the Starbucks rewards mobile app. Once every few days, Starbucks sends out an offer to users of the mobile app. An offer can be merely an advertisement for a drink or an actual offer such as a discount or BOGO (buy one get one free). Some users might not receive any offer during certain weeks. \n",
    "\n",
    "Not all users receive the same offer, and that is the challenge to solve with this data set.\n",
    "\n",
    "Your task is to combine transaction, demographic and offer data to determine which demographic groups respond best to which offer type. This data set is a simplified version of the real Starbucks app because the underlying simulator only has one product whereas Starbucks actually sells dozens of products.\n",
    "\n",
    "Every offer has a validity period before the offer expires. As an example, a BOGO offer might be valid for only 5 days. You'll see in the data set that informational offers have a validity period even though these ads are merely providing information about a product; for example, if an informational offer has 7 days of validity, you can assume the customer is feeling the influence of the offer for 7 days after receiving the advertisement.\n",
    "\n",
    "You'll be given transactional data showing user purchases made on the app including the timestamp of purchase and the amount of money spent on a purchase. This transactional data also has a record for each offer that a user receives as well as a record for when a user actually views the offer. There are also records for when a user completes an offer. \n",
    "\n",
    "Keep in mind as well that someone using the app might make a purchase through the app without having received an offer or seen an offer.\n",
    "\n",
    "### Example\n",
    "\n",
    "To give an example, a user could receive a discount offer buy 10 dollars get 2 off on Monday. The offer is valid for 10 days from receipt. If the customer accumulates at least 10 dollars in purchases during the validity period, the customer completes the offer.\n",
    "\n",
    "However, there are a few things to watch out for in this data set. Customers do not opt into the offers that they receive; in other words, a user can receive an offer, never actually view the offer, and still complete the offer. For example, a user might receive the \"buy 10 dollars get 2 dollars off offer\", but the user never opens the offer during the 10 day validity period. The customer spends 15 dollars during those ten days. There will be an offer completion record in the data set; however, the customer was not influenced by the offer because the customer never viewed the offer.\n",
    "\n",
    "### Cleaning\n",
    "\n",
    "This makes data cleaning especially important and tricky.\n",
    "\n",
    "You'll also want to take into account that some demographic groups will make purchases even if they don't receive an offer. From a business perspective, if a customer is going to make a 10 dollar purchase without an offer anyway, you wouldn't want to send a buy 10 dollars get 2 dollars off offer. You'll want to try to assess what a certain demographic group will buy when not receiving any offers.\n",
    "\n",
    "### Final Advice\n",
    "\n",
    "Because this is a capstone project, you are free to analyze the data any way you see fit. For example, you could build a machine learning model that predicts how much someone will spend based on demographics and offer type. Or you could build a model that predicts whether or not someone will respond to an offer. Or, you don't need to build a machine learning model at all. You could develop a set of heuristics that determine what offer you should send to each customer (i.e., 75 percent of women customers who were 35 years old responded to offer A vs 40 percent from the same demographic to offer B, so send offer A)."
   ]
  },
  {
   "cell_type": "markdown",
   "metadata": {},
   "source": [
    "# Data Sets\n",
    "\n",
    "The data is contained in three files:\n",
    "\n",
    "* portfolio.json - containing offer ids and meta data about each offer (duration, type, etc.)\n",
    "* profile.json - demographic data for each customer\n",
    "* transcript.json - records for transactions, offers received, offers viewed, and offers completed\n",
    "\n",
    "Here is the schema and explanation of each variable in the files:\n",
    "\n",
    "**portfolio.json**\n",
    "* id (string) - offer id\n",
    "* offer_type (string) - type of offer ie BOGO, discount, informational\n",
    "* difficulty (int) - minimum required spend to complete an offer\n",
    "* reward (int) - reward given for completing an offer\n",
    "* duration (int) - time for offer to be open, in days\n",
    "* channels (list of strings)\n",
    "\n",
    "**profile.json**\n",
    "* age (int) - age of the customer \n",
    "* became_member_on (int) - date when customer created an app account\n",
    "* gender (str) - gender of the customer (note some entries contain 'O' for other rather than M or F)\n",
    "* id (str) - customer id\n",
    "* income (float) - customer's income\n",
    "\n",
    "**transcript.json**\n",
    "* event (str) - record description (ie transaction, offer received, offer viewed, etc.)\n",
    "* person (str) - customer id\n",
    "* time (int) - time in hours since start of test. The data begins at time t=0\n",
    "* value - (dict of strings) - either an offer id or transaction amount depending on the record\n",
    "\n",
    "**Note:** If you are using the workspace, you will need to go to the terminal and run the command `conda update pandas` before reading in the files. This is because the version of pandas in the workspace cannot read in the transcript.json file correctly, but the newest version of pandas can. You can access the termnal from the orange icon in the top left of this notebook.  \n",
    "\n",
    "You can see how to access the terminal and how the install works using the two images below.  First you need to access the terminal:\n",
    "\n",
    "<img src=\"pic1.png\"/>\n",
    "\n",
    "Then you will want to run the above command:\n",
    "\n",
    "<img src=\"pic2.png\"/>\n",
    "\n",
    "Finally, when you enter back into the notebook (use the jupyter icon again), you should be able to run the below cell without any errors."
   ]
  },
  {
   "cell_type": "code",
   "execution_count": 1,
   "metadata": {},
   "outputs": [],
   "source": [
    "import pandas as pd\n",
    "import numpy as np\n",
    "import math\n",
    "import json\n",
    "%matplotlib inline\n",
    "\n",
    "# read in the json files\n",
    "portfolio = pd.read_json('data/portfolio.json', orient='records', lines=True)\n",
    "profile = pd.read_json('data/profile.json', orient='records', lines=True)\n",
    "transcript = pd.read_json('data/transcript.json', orient='records', lines=True)"
   ]
  },
  {
   "cell_type": "code",
   "execution_count": 8,
   "metadata": {},
   "outputs": [
    {
     "name": "stdout",
     "output_type": "stream",
     "text": [
      "<class 'pandas.core.frame.DataFrame'>\n",
      "RangeIndex: 17000 entries, 0 to 16999\n",
      "Data columns (total 5 columns):\n",
      " #   Column            Non-Null Count  Dtype  \n",
      "---  ------            --------------  -----  \n",
      " 0   gender            14825 non-null  object \n",
      " 1   age               17000 non-null  int64  \n",
      " 2   id                17000 non-null  object \n",
      " 3   became_member_on  17000 non-null  int64  \n",
      " 4   income            14825 non-null  float64\n",
      "dtypes: float64(1), int64(2), object(2)\n",
      "memory usage: 664.2+ KB\n"
     ]
    }
   ],
   "source": [
    "profile.info()\n"
   ]
  },
  {
   "cell_type": "code",
   "execution_count": 9,
   "metadata": {},
   "outputs": [
    {
     "name": "stdout",
     "output_type": "stream",
     "text": [
      "                                      id gender  age  became_member_on  \\\n",
      "0       68be06ca386d4c31939f3a4f0e3dd783   None  118          20170212   \n",
      "1       68be06ca386d4c31939f3a4f0e3dd783   None  118          20170212   \n",
      "2       68be06ca386d4c31939f3a4f0e3dd783   None  118          20170212   \n",
      "3       68be06ca386d4c31939f3a4f0e3dd783   None  118          20170212   \n",
      "4       68be06ca386d4c31939f3a4f0e3dd783   None  118          20170212   \n",
      "...                                  ...    ...  ...               ...   \n",
      "306529  e4052622e5ba45a8b96b59aba68cf068      F   62          20170722   \n",
      "306530  e4052622e5ba45a8b96b59aba68cf068      F   62          20170722   \n",
      "306531  e4052622e5ba45a8b96b59aba68cf068      F   62          20170722   \n",
      "306532  e4052622e5ba45a8b96b59aba68cf068      F   62          20170722   \n",
      "306533  e4052622e5ba45a8b96b59aba68cf068      F   62          20170722   \n",
      "\n",
      "         income            event  \\\n",
      "0           NaN   offer received   \n",
      "1           NaN     offer viewed   \n",
      "2           NaN   offer received   \n",
      "3           NaN     offer viewed   \n",
      "4           NaN      transaction   \n",
      "...         ...              ...   \n",
      "306529  82000.0  offer completed   \n",
      "306530  82000.0      transaction   \n",
      "306531  82000.0     offer viewed   \n",
      "306532  82000.0   offer received   \n",
      "306533  82000.0      transaction   \n",
      "\n",
      "                                                    value  time  \n",
      "0        {'offer id': '2906b810c7d4411798c6938adc9daaa5'}   168  \n",
      "1        {'offer id': '2906b810c7d4411798c6938adc9daaa5'}   216  \n",
      "2        {'offer id': '0b1e1539f2cc45b7b9fa7c272da2e1d7'}   336  \n",
      "3        {'offer id': '0b1e1539f2cc45b7b9fa7c272da2e1d7'}   348  \n",
      "4                         {'amount': 0.35000000000000003}   360  \n",
      "...                                                   ...   ...  \n",
      "306529  {'offer_id': 'f19421c1d4aa40978ebb69ca19b0e20d...   480  \n",
      "306530                                  {'amount': 19.47}   486  \n",
      "306531   {'offer id': 'f19421c1d4aa40978ebb69ca19b0e20d'}   546  \n",
      "306532   {'offer id': '3f207df678b143eea3cee63160fa8bed'}   576  \n",
      "306533                                  {'amount': 24.71}   690  \n",
      "\n",
      "[306534 rows x 8 columns]\n"
     ]
    }
   ],
   "source": [
    "# Perform the inner join\n",
    "merged_df = pd.merge(profile, transcript, left_on='id', right_on='person')\n",
    "\n",
    "# Select the required columns\n",
    "result_df = merged_df[['id', 'gender', 'age', 'became_member_on', 'income', 'event', 'value', 'time']]\n",
    "\n",
    "print(result_df)"
   ]
  },
  {
   "cell_type": "code",
   "execution_count": 10,
   "metadata": {},
   "outputs": [
    {
     "name": "stdout",
     "output_type": "stream",
     "text": [
      "The number of transcript records without a corresponding profile record is 0.\n"
     ]
    }
   ],
   "source": [
    "# Perform the left join to find records in transcript without a corresponding profile record\n",
    "merged_df = pd.merge(transcript, profile, left_on='person', right_on='id', how='left')\n",
    "\n",
    "# Filter the records where profile information is missing (i.e., id is NaN)\n",
    "missing_profile_records = merged_df[merged_df['id'].isna()]\n",
    "\n",
    "# Get the number of such records\n",
    "num_missing_records = len(missing_profile_records)\n",
    "\n",
    "print(f\"The number of transcript records without a corresponding profile record is {num_missing_records}.\")"
   ]
  }
 ],
 "metadata": {
  "kernelspec": {
   "display_name": "base",
   "language": "python",
   "name": "python3"
  },
  "language_info": {
   "codemirror_mode": {
    "name": "ipython",
    "version": 3
   },
   "file_extension": ".py",
   "mimetype": "text/x-python",
   "name": "python",
   "nbconvert_exporter": "python",
   "pygments_lexer": "ipython3",
   "version": "3.12.4"
  }
 },
 "nbformat": 4,
 "nbformat_minor": 2
}
